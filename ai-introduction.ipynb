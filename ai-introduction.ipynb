{
 "cells": [
  {
   "cell_type": "markdown",
   "metadata": {},
   "source": [
    "# A.I. Introduction\n",
    "Welcome to the Angers school of Artificial Intelligence. \n",
    "\n",
    "## **What is the machine learning ?**\n",
    "\n",
    "The main goal of this notebook is to try to give a simple first answer to that question.\n",
    "\n",
    "### ***Why now ?***\n",
    "\n",
    "![History](img/history.png)\n",
    "\n",
    "![Ecosystem](img/ecosystem.png)\n",
    "\n",
    "![Data Science Schema](img/DataScienceSchema.png)"
   ]
  },
  {
   "cell_type": "code",
   "execution_count": 3,
   "metadata": {},
   "outputs": [
    {
     "name": "stderr",
     "output_type": "stream",
     "text": [
      "'[title]' n'est pas reconnu en tant que commande interne\n",
      "ou externe, un programme ex‚cutable ou un fichier de commandes.\n"
     ]
    }
   ],
   "source": []
  },
  {
   "cell_type": "code",
   "execution_count": null,
   "metadata": {},
   "outputs": [],
   "source": []
  }
 ],
 "metadata": {
  "kernelspec": {
   "display_name": "Python 3",
   "language": "python",
   "name": "python3"
  },
  "language_info": {
   "codemirror_mode": {
    "name": "ipython",
    "version": 3
   },
   "file_extension": ".py",
   "mimetype": "text/x-python",
   "name": "python",
   "nbconvert_exporter": "python",
   "pygments_lexer": "ipython3",
   "version": "3.7.3"
  }
 },
 "nbformat": 4,
 "nbformat_minor": 2
}
